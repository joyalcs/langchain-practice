{
 "cells": [
  {
   "cell_type": "code",
   "execution_count": 44,
   "id": "a974585d",
   "metadata": {},
   "outputs": [
    {
     "data": {
      "text/plain": [
       "[Document(page_content='Sometimes it\\'s simply better to ignore the haters. That\\'s the lesson that Tom\\'s dad had been trying to teach him, but Tom still couldn\\'t let it go. He latched onto them and their hate and couldn\\'t let it go, but he also realized that this wasn\\'t healthy. That\\'s when he came up with his devious plan.\\nThe choice was red, green, or blue. It didn\\'t seem like an important choice when he was making it, but it was a choice nonetheless. Had he known the consequences at that time, he would likely have considered the choice a bit longer. In the end, he didn\\'t and ended up choosing blue.\\nHe stared out the window at the snowy field. He\\'d been stuck in the house for close to a month and his only view of the outside world was through the window. There wasn\\'t much to see. It was mostly just the field with an occasional bird or small animal who ventured into the field. As he continued to stare out the window, he wondered how much longer he\\'d be shackled to the steel bar inside the house.\\nIt was a concerning development that he couldn\\'t get out of his mind. He\\'d had many friends throughout his early years and had fond memories of playing with them, but he couldn\\'t understand how it had all stopped. There was some point as he grew up that he played with each of his friends for the very last time, and he had no idea that it would be the last.\\nHe heard the loud impact before he ever saw the result. It had been so loud that it had actually made him jump back in his seat. As soon as he recovered from the surprise, he saw the crack in the windshield. It seemed to be an analogy of the current condition of his life.\\nBreastfeeding is good for babies and moms. Infants that are breastfed get antibodies from their mothers against common illnesses. Breastfed babies have less chance of being obese as an adult. Breastfeeding a baby lets the infant-mother pair bond in a very unique way. Motherâ€™s who breastfeed lower their chances of developing breast cancer. Usually, mothers who breastfeed lose their pregnancy weight more quickly and easily. The benefits of breastfeeding are numerous.\\nThen came the night of the first falling star. It was seen early in the morning, rushing over Winchester eastward, a line of flame high in the atmosphere. Hundreds must have seen it and taken it for an ordinary falling star. It seemed that it fell to earth about one hundred miles east of him.\\nBrenda never wanted to be famous. While most of her friends dreamed about being famous, she could see the negative aspects that those who wanted to be famous seemed to ignore. The fact that you could never do anything in public without being mobbed and the complete lack of privacy was something that she never wanted to experience. She also had no desire to have strangers speculating about every aspect of her life and what each thing she did was supposed to mean. Brenda was perfectly happy with her anonymous life where she could do exactly as she wanted without anyone else giving a damn. Thus, her overnight Internet celebrity was not something she was thrilled about as her friends told her how lucky she was.\\nHe walked down the steps from the train station in a bit of a hurry knowing the secrets in the briefcase must be secured as quickly as possible. Bounding down the steps, he heard something behind him and quickly turned in a panic. There was nobody there but a pair of old worn-out shoes were placed neatly on the steps he had just come down. Had he past them without seeing them? It didn\\'t seem possible. He was about to turn and be on his way when a deep chill filled his body.\\nShe counted. One. She could hear the steps coming closer. Two. Puffs of breath could be seen coming from his mouth. Three. He stopped beside her. Four. She pulled the trigger of the gun.\\nIt was just a burger. Why couldn\\'t she understand that? She knew he\\'d completely changed his life around her eating habits, so why couldn\\'t she give him a break this one time? She wasn\\'t even supposed to have found out. Yes, he had promised her and yes, he had broken that promise, but still in his mind, all it had been was just a burger.\\nThere weren\\'t supposed to be dragons flying in the sky. First and foremost, dragons didn\\'t exist. They were mythical creatures from fantasy books like unicorns. This was something that Pete knew in his heart to be true so he was having a difficult time acknowledging that there were actually fire-breathing dragons flying in the sky above him.\\nShe reached her goal, exhausted. Even more chilling to her was that the euphoria that she thought she\\'d feel upon reaching it wasn\\'t there. Something wasn\\'t right. Was this the only feeling she\\'d have for over five years of hard work?\\nShe asked the question even though she didn\\'t really want to hear the answer. It was a no-win situation since she already knew. If he told the truth, she\\'d get confirmation of her worst fears. If he lied, she\\'d know that he wasn\\'t who she thought he was which would be almost as bad. Yet she asked the question anyway and waited for his answer.\\n\"What is the best way to get what you want?\" she asked. He looked down at the ground knowing that she wouldn\\'t like his answer. He hesitated, knowing that the truth would only hurt. How was he going to tell her that the best way for him to get what he wanted was to leave her?\\nAll he could think about was how it would all end. There was still a bit of uncertainty in the equation, but the basics were there for anyone to see. No matter how much he tried to see the positive, it wasn\\'t anywhere to be seen. The end was coming and it wasn\\'t going to be pretty.\\nHere\\'s the thing. She doesn\\'t have anything to prove, but she is going to anyway. That\\'s just her character. She knows she doesn\\'t have to, but she still will just to show you that she can. Doubt her more and she\\'ll prove she can again. We all already know this and you will too.\\nI\\'m heading back to Colorado tomorrow after being down in Santa Barbara over the weekend for the festival there. I will be making October plans once there and will try to arrange so I\\'m back here for the birthday if possible. I\\'ll let you know as soon as I know the doctor\\'s appointment schedule and my flight plans.\\nHe couldn\\'t remember exactly where he had read it, but he was sure that he had. The fact that she didn\\'t believe him was quite frustrating as he began to search the Internet to find the article. It wasn\\'t as if it was something that seemed impossible. Yet she insisted on always seeing the source whenever he stated a fact.\\nThere was something in the sky. What exactly was up there wasn\\'t immediately clear. But there was definitely something in the sky and it was getting bigger and bigger.\\nI\\'m so confused by your ridiculous meltdown that I must insist on some sort of explanation for your behavior towards me. It just doesn\\'t make any sense. There\\'s no way that I deserved the treatment you gave me without an explanation or an apology for how out of line you have been.\\nDevon couldn\\'t figure out the color of her eyes. He initially would have guessed that they were green, but the more he looked at them he almost wanted to say they were a golden yellow. Then there were the flashes of red and orange that seemed to be streaked throughout them. It was almost as if her eyes were made of opal with the sun constantly glinting off of them and bringing out more color. They were definitely the most unusual pair of eyes he\\'d ever seen.\\nShe was in a hurry. Not the standard hurry when you\\'re in a rush to get someplace, but a frantic hurry. The type of hurry where a few seconds could mean life or death. She raced down the road ignoring speed limits and weaving between cars. She was only a few minutes away when traffic came to a dead standstill on the road ahead.\\nThe boy walked down the street in a carefree way, playing without notice of what was about him. He didn\\'t hear the sound of the car as his ball careened into the road. He took a step toward it, and in doing so sealed his fate.\\nHe swung back the fishing pole and cast the line which ell 25 feet away into the river. The lure landed in the perfect spot and he was sure he would soon get a bite. He never expected that the bite would come from behind in the form of a bear.\\nShe sat deep in thought. The next word that came out o her mouth would likely be the most important word of her life. It had to be exact with no possibility of being misinterpreted. She was ready. She looked deeply into his eyes and said, \"Octopus.\"\\nBarbara had been waiting at the table for twenty minutes. it had been twenty long and excruciating minutes. David had promised that he would be on time today. He never was, but he had promised this one time. She had made him repeat the promise multiple times over the last week until she\\'d believed his promise. Now she was paying the price.\\nIt\\'s not his fault. I know you\\'re going to want to, but you can\\'t blame him. He really has no idea how it happened. I kept trying to come up with excuses I could say to mom that would keep her calm when she found out what happened, but the more I tried, the more I could see none of them would work. He was going to get her wrath and there was nothing I could say to prevent it.\\nThere are different types of secrets. She had held onto plenty of them during her life, but this one was different. She found herself holding onto the worst type. It was the type of secret that could gnaw away at your insides if you didn\\'t tell someone about it, but it could end up getting you killed if you did.\\nThe spot was perfect for camouflage. At least that\\'s what she thought when she picked the spot. She couldn\\'t imagine that anyone would ever be able to see her in these surroundings. So there she sat, confident that she was hidden from the world and safe from danger. Unfortunately, she had not anticipated that others may be looking upon her from other angles, and now they were stealthily descending toward her hiding spot.\\nHe was aware there were numerous wonders of this world including the unexplained creations of humankind that showed the wonder of our ingenuity. There are huge heads on Easter Island. There are the Egyptian pyramids. Thereâ€™s Stonehenge. But he now stood in front of a newly discovered monument that simply didn\\'t make any sense and he wondered how he was ever going to be able to explain it.\\nHe ordered his regular breakfast. Two eggs sunnyside up, hash browns, and two strips of bacon. He continued to look at the menu wondering if this would be the day he added something new. This was also part of the routine. A few seconds of hesitation to see if something else would be added to the order before demuring and saying that would be all. It was the same exact meal that he had ordered every day for the past two years.\\nThere was something beautiful in his hate. It wasn\\'t the hate itself as it was a disgusting display of racism and intolerance. It was what propelled the hate and the fact that although he had this hate, he didn\\'t understand where it came from. It was at that moment that she realized that there was hope in changing him.\\nIt\\'s an unfortunate reality that we don\\'t teach people how to make money (beyond getting a 9 to 5 job) as part of our education system. The truth is there are a lot of different, legitimate ways to make money. That doesn\\'t mean they are easy and that you won\\'t have to work hard to succeed, but it does mean that if you\\'re willing to open your mind a bit you don\\'t have to be stuck in an office from 9 to 5 for the next fifty years o your life.\\nSamantha wanted to be famous. The problem was that she had never considered all the downsides to actually being famous. Had she taken the time to objectively consider these downsides, she would have never agreed to publically sing that first song.\\nGreg understood that this situation would make Michael terribly uncomfortable. Michael simply had no idea what was about to come and even though Greg could prevent it from happening, he opted to let it happen. It was quite ironic, really. It was something Greg had said he would never wish upon anyone a million times, yet here he was knowingly letting it happen to one of his best friends. He rationalized that it would ultimately make Michael a better person and that no matter how uncomfortable, everyone should experience racism at least once in their lifetime.\\nIt was a good idea. At least, they all thought it was a good idea at the time. Hindsight would reveal that in reality, it was an unbelievably terrible idea, but it would take another week for them to understand that. Right now, at this very moment. they all agreed that it was the perfect course of action for the current situation.\\nHis mother had always taught him not to ever think of himself as better than others. He\\'d tried to live by this motto. He never looked down on those who were less fortunate or who had less money than him. But the stupidity of the group of people he was talking to made him change his mind.\\nThe bowl was filled with fruit. It seemed to be an overabundance of strawberries, but it also included blueberries, raspberries, grapes, and banana slices. This was the meal Sarah had every morning to start her day since she could remember. Why she decided to add chocolate as an option today was still a bit of a surprise, but she had been in the process of deciding she wanted to change her routine. This was a baby step to begin that start.\\nBetty was a creature of habit and she thought she liked it that way. That was until Dave showed up in her life. She now had a choice to make and it would determine whether her lie remained the same or if it would change forever.\\n\"Can I get you anything else?\" David asked. It was a question he asked a hundred times a day and he always received the same answer. It had become such an ingrained part of his daily routine that he had to step back and actively think when he heard the little girl\\'s reply. Nobody had before answered the question the way that she did, and David didn\\'t know how he should respond.\\nThe cab arrived late. The inside was in as bad of shape as the outside which was concerning, and it didn\\'t appear that it had been cleaned in months. The green tree air-freshener hanging from the rearview mirror was either exhausted of its scent or not strong enough to overcome the other odors emitting from the cab. The correct decision, in this case, was to get the hell out of it and to call another cab, but she was late and didn\\'t have a choice.\\nIt was a weird concept. Why would I really need to generate a random paragraph? Could I actually learn something from doing so? All these questions were running through her head as she pressed the generate button. To her surprise, she found what she least expected to see.\\nThe lone lamp post of the one-street town flickered, not quite dead but definitely on its way out. Suitcase by her side, she paid no heed to the light, the street or the town. A car was coming down the street and with her arm outstretched and thumb in the air, she had a plan.\\nShe had come to the conclusion that you could tell a lot about a person by their ears. The way they stuck out and the size of the earlobes could give you wonderful insights into the person. Of course, she couldn\\'t scientifically prove any of this, but that didn\\'t matter to her. Before anything else, she would size up the ears of the person she was talking to.\\nThe wave roared towards them with speed and violence they had not anticipated. They both turned to run but by that time it was too late. The wave crashed into their legs sweeping both of them off of their feet. They now found themselves in a washing machine of saltwater, getting tumbled and not know what was up or down. Both were scared, not knowing how this was going to end, but it was by far the best time of the trip thus far.\\n\"Begin today!\" That\\'s all the note said. There was no indication from where it came or who may have written it. Had it been meant for someone else? Meghan looked around the room, but nobody made eye contact back. For a brief moment, she thought it might be a message for her to follow her dreams, but ultimately decided it was easier to ignore it as she crumpled it up and threw it away.\\nHe wandered down the stairs and into the basement. The damp, musty smell of unuse hung in the air. A single, small window let in a glimmer of light, but this simply made the shadows in the basement deeper. He inhaled deeply and looked around at a mess that had been accumulating for over 25 years. He was positive that this was the place he wanted to live.\\nHer eyebrows were a shade darker than her hair. They were thick and almost horizontal, emphasizing the depth of her eyes. She was rather handsome than beautiful. Her face was captivating by reason of a certain frankness of expression and a contradictory subtle play of features. Her manner was engaging.\\nThere was a reason for her shyness. Everyone assumed it had always been there but she knew better. She knew the exact moment that the shyness began. It had been that fateful moment at the lake. There are just some events that do that to you.', metadata={'source': 'speech.txt'})]"
      ]
     },
     "execution_count": 44,
     "metadata": {},
     "output_type": "execute_result"
    }
   ],
   "source": [
    "from langchain_community.document_loaders import TextLoader, WebBaseLoader\n",
    "\n",
    "loader = TextLoader('speech.txt')\n",
    "text_documents = loader.load()\n",
    "text_documents"
   ]
  },
  {
   "cell_type": "code",
   "execution_count": 45,
   "id": "8ba5ba07",
   "metadata": {},
   "outputs": [],
   "source": [
    "# import bs4\n",
    "\n",
    "\n",
    "# loader = WebBaseLoader(\n",
    "#     web_paths=(\"https://en.wikipedia.org/wiki/Artificial_intelligence\",),\n",
    "#     bs_kwargs=dict(parse_only=bs4.SoupStrainer([\"p\", \"div\", \"span\"]))  # parse only these tags\n",
    "# )\n",
    "\n",
    "# text_documents = loader.load()"
   ]
  },
  {
   "cell_type": "code",
   "execution_count": 46,
   "id": "2377b21b",
   "metadata": {},
   "outputs": [
    {
     "data": {
      "text/plain": [
       "[Document(page_content='Sometimes it\\'s simply better to ignore the haters. That\\'s the lesson that Tom\\'s dad had been trying to teach him, but Tom still couldn\\'t let it go. He latched onto them and their hate and couldn\\'t let it go, but he also realized that this wasn\\'t healthy. That\\'s when he came up with his devious plan.\\nThe choice was red, green, or blue. It didn\\'t seem like an important choice when he was making it, but it was a choice nonetheless. Had he known the consequences at that time, he would likely have considered the choice a bit longer. In the end, he didn\\'t and ended up choosing blue.\\nHe stared out the window at the snowy field. He\\'d been stuck in the house for close to a month and his only view of the outside world was through the window. There wasn\\'t much to see. It was mostly just the field with an occasional bird or small animal who ventured into the field. As he continued to stare out the window, he wondered how much longer he\\'d be shackled to the steel bar inside the house.\\nIt was a concerning development that he couldn\\'t get out of his mind. He\\'d had many friends throughout his early years and had fond memories of playing with them, but he couldn\\'t understand how it had all stopped. There was some point as he grew up that he played with each of his friends for the very last time, and he had no idea that it would be the last.\\nHe heard the loud impact before he ever saw the result. It had been so loud that it had actually made him jump back in his seat. As soon as he recovered from the surprise, he saw the crack in the windshield. It seemed to be an analogy of the current condition of his life.\\nBreastfeeding is good for babies and moms. Infants that are breastfed get antibodies from their mothers against common illnesses. Breastfed babies have less chance of being obese as an adult. Breastfeeding a baby lets the infant-mother pair bond in a very unique way. Motherâ€™s who breastfeed lower their chances of developing breast cancer. Usually, mothers who breastfeed lose their pregnancy weight more quickly and easily. The benefits of breastfeeding are numerous.\\nThen came the night of the first falling star. It was seen early in the morning, rushing over Winchester eastward, a line of flame high in the atmosphere. Hundreds must have seen it and taken it for an ordinary falling star. It seemed that it fell to earth about one hundred miles east of him.\\nBrenda never wanted to be famous. While most of her friends dreamed about being famous, she could see the negative aspects that those who wanted to be famous seemed to ignore. The fact that you could never do anything in public without being mobbed and the complete lack of privacy was something that she never wanted to experience. She also had no desire to have strangers speculating about every aspect of her life and what each thing she did was supposed to mean. Brenda was perfectly happy with her anonymous life where she could do exactly as she wanted without anyone else giving a damn. Thus, her overnight Internet celebrity was not something she was thrilled about as her friends told her how lucky she was.\\nHe walked down the steps from the train station in a bit of a hurry knowing the secrets in the briefcase must be secured as quickly as possible. Bounding down the steps, he heard something behind him and quickly turned in a panic. There was nobody there but a pair of old worn-out shoes were placed neatly on the steps he had just come down. Had he past them without seeing them? It didn\\'t seem possible. He was about to turn and be on his way when a deep chill filled his body.\\nShe counted. One. She could hear the steps coming closer. Two. Puffs of breath could be seen coming from his mouth. Three. He stopped beside her. Four. She pulled the trigger of the gun.\\nIt was just a burger. Why couldn\\'t she understand that? She knew he\\'d completely changed his life around her eating habits, so why couldn\\'t she give him a break this one time? She wasn\\'t even supposed to have found out. Yes, he had promised her and yes, he had broken that promise, but still in his mind, all it had been was just a burger.\\nThere weren\\'t supposed to be dragons flying in the sky. First and foremost, dragons didn\\'t exist. They were mythical creatures from fantasy books like unicorns. This was something that Pete knew in his heart to be true so he was having a difficult time acknowledging that there were actually fire-breathing dragons flying in the sky above him.\\nShe reached her goal, exhausted. Even more chilling to her was that the euphoria that she thought she\\'d feel upon reaching it wasn\\'t there. Something wasn\\'t right. Was this the only feeling she\\'d have for over five years of hard work?\\nShe asked the question even though she didn\\'t really want to hear the answer. It was a no-win situation since she already knew. If he told the truth, she\\'d get confirmation of her worst fears. If he lied, she\\'d know that he wasn\\'t who she thought he was which would be almost as bad. Yet she asked the question anyway and waited for his answer.\\n\"What is the best way to get what you want?\" she asked. He looked down at the ground knowing that she wouldn\\'t like his answer. He hesitated, knowing that the truth would only hurt. How was he going to tell her that the best way for him to get what he wanted was to leave her?\\nAll he could think about was how it would all end. There was still a bit of uncertainty in the equation, but the basics were there for anyone to see. No matter how much he tried to see the positive, it wasn\\'t anywhere to be seen. The end was coming and it wasn\\'t going to be pretty.\\nHere\\'s the thing. She doesn\\'t have anything to prove, but she is going to anyway. That\\'s just her character. She knows she doesn\\'t have to, but she still will just to show you that she can. Doubt her more and she\\'ll prove she can again. We all already know this and you will too.\\nI\\'m heading back to Colorado tomorrow after being down in Santa Barbara over the weekend for the festival there. I will be making October plans once there and will try to arrange so I\\'m back here for the birthday if possible. I\\'ll let you know as soon as I know the doctor\\'s appointment schedule and my flight plans.\\nHe couldn\\'t remember exactly where he had read it, but he was sure that he had. The fact that she didn\\'t believe him was quite frustrating as he began to search the Internet to find the article. It wasn\\'t as if it was something that seemed impossible. Yet she insisted on always seeing the source whenever he stated a fact.\\nThere was something in the sky. What exactly was up there wasn\\'t immediately clear. But there was definitely something in the sky and it was getting bigger and bigger.\\nI\\'m so confused by your ridiculous meltdown that I must insist on some sort of explanation for your behavior towards me. It just doesn\\'t make any sense. There\\'s no way that I deserved the treatment you gave me without an explanation or an apology for how out of line you have been.\\nDevon couldn\\'t figure out the color of her eyes. He initially would have guessed that they were green, but the more he looked at them he almost wanted to say they were a golden yellow. Then there were the flashes of red and orange that seemed to be streaked throughout them. It was almost as if her eyes were made of opal with the sun constantly glinting off of them and bringing out more color. They were definitely the most unusual pair of eyes he\\'d ever seen.\\nShe was in a hurry. Not the standard hurry when you\\'re in a rush to get someplace, but a frantic hurry. The type of hurry where a few seconds could mean life or death. She raced down the road ignoring speed limits and weaving between cars. She was only a few minutes away when traffic came to a dead standstill on the road ahead.\\nThe boy walked down the street in a carefree way, playing without notice of what was about him. He didn\\'t hear the sound of the car as his ball careened into the road. He took a step toward it, and in doing so sealed his fate.\\nHe swung back the fishing pole and cast the line which ell 25 feet away into the river. The lure landed in the perfect spot and he was sure he would soon get a bite. He never expected that the bite would come from behind in the form of a bear.\\nShe sat deep in thought. The next word that came out o her mouth would likely be the most important word of her life. It had to be exact with no possibility of being misinterpreted. She was ready. She looked deeply into his eyes and said, \"Octopus.\"\\nBarbara had been waiting at the table for twenty minutes. it had been twenty long and excruciating minutes. David had promised that he would be on time today. He never was, but he had promised this one time. She had made him repeat the promise multiple times over the last week until she\\'d believed his promise. Now she was paying the price.\\nIt\\'s not his fault. I know you\\'re going to want to, but you can\\'t blame him. He really has no idea how it happened. I kept trying to come up with excuses I could say to mom that would keep her calm when she found out what happened, but the more I tried, the more I could see none of them would work. He was going to get her wrath and there was nothing I could say to prevent it.\\nThere are different types of secrets. She had held onto plenty of them during her life, but this one was different. She found herself holding onto the worst type. It was the type of secret that could gnaw away at your insides if you didn\\'t tell someone about it, but it could end up getting you killed if you did.\\nThe spot was perfect for camouflage. At least that\\'s what she thought when she picked the spot. She couldn\\'t imagine that anyone would ever be able to see her in these surroundings. So there she sat, confident that she was hidden from the world and safe from danger. Unfortunately, she had not anticipated that others may be looking upon her from other angles, and now they were stealthily descending toward her hiding spot.\\nHe was aware there were numerous wonders of this world including the unexplained creations of humankind that showed the wonder of our ingenuity. There are huge heads on Easter Island. There are the Egyptian pyramids. Thereâ€™s Stonehenge. But he now stood in front of a newly discovered monument that simply didn\\'t make any sense and he wondered how he was ever going to be able to explain it.\\nHe ordered his regular breakfast. Two eggs sunnyside up, hash browns, and two strips of bacon. He continued to look at the menu wondering if this would be the day he added something new. This was also part of the routine. A few seconds of hesitation to see if something else would be added to the order before demuring and saying that would be all. It was the same exact meal that he had ordered every day for the past two years.\\nThere was something beautiful in his hate. It wasn\\'t the hate itself as it was a disgusting display of racism and intolerance. It was what propelled the hate and the fact that although he had this hate, he didn\\'t understand where it came from. It was at that moment that she realized that there was hope in changing him.\\nIt\\'s an unfortunate reality that we don\\'t teach people how to make money (beyond getting a 9 to 5 job) as part of our education system. The truth is there are a lot of different, legitimate ways to make money. That doesn\\'t mean they are easy and that you won\\'t have to work hard to succeed, but it does mean that if you\\'re willing to open your mind a bit you don\\'t have to be stuck in an office from 9 to 5 for the next fifty years o your life.\\nSamantha wanted to be famous. The problem was that she had never considered all the downsides to actually being famous. Had she taken the time to objectively consider these downsides, she would have never agreed to publically sing that first song.\\nGreg understood that this situation would make Michael terribly uncomfortable. Michael simply had no idea what was about to come and even though Greg could prevent it from happening, he opted to let it happen. It was quite ironic, really. It was something Greg had said he would never wish upon anyone a million times, yet here he was knowingly letting it happen to one of his best friends. He rationalized that it would ultimately make Michael a better person and that no matter how uncomfortable, everyone should experience racism at least once in their lifetime.\\nIt was a good idea. At least, they all thought it was a good idea at the time. Hindsight would reveal that in reality, it was an unbelievably terrible idea, but it would take another week for them to understand that. Right now, at this very moment. they all agreed that it was the perfect course of action for the current situation.\\nHis mother had always taught him not to ever think of himself as better than others. He\\'d tried to live by this motto. He never looked down on those who were less fortunate or who had less money than him. But the stupidity of the group of people he was talking to made him change his mind.\\nThe bowl was filled with fruit. It seemed to be an overabundance of strawberries, but it also included blueberries, raspberries, grapes, and banana slices. This was the meal Sarah had every morning to start her day since she could remember. Why she decided to add chocolate as an option today was still a bit of a surprise, but she had been in the process of deciding she wanted to change her routine. This was a baby step to begin that start.\\nBetty was a creature of habit and she thought she liked it that way. That was until Dave showed up in her life. She now had a choice to make and it would determine whether her lie remained the same or if it would change forever.\\n\"Can I get you anything else?\" David asked. It was a question he asked a hundred times a day and he always received the same answer. It had become such an ingrained part of his daily routine that he had to step back and actively think when he heard the little girl\\'s reply. Nobody had before answered the question the way that she did, and David didn\\'t know how he should respond.\\nThe cab arrived late. The inside was in as bad of shape as the outside which was concerning, and it didn\\'t appear that it had been cleaned in months. The green tree air-freshener hanging from the rearview mirror was either exhausted of its scent or not strong enough to overcome the other odors emitting from the cab. The correct decision, in this case, was to get the hell out of it and to call another cab, but she was late and didn\\'t have a choice.\\nIt was a weird concept. Why would I really need to generate a random paragraph? Could I actually learn something from doing so? All these questions were running through her head as she pressed the generate button. To her surprise, she found what she least expected to see.\\nThe lone lamp post of the one-street town flickered, not quite dead but definitely on its way out. Suitcase by her side, she paid no heed to the light, the street or the town. A car was coming down the street and with her arm outstretched and thumb in the air, she had a plan.\\nShe had come to the conclusion that you could tell a lot about a person by their ears. The way they stuck out and the size of the earlobes could give you wonderful insights into the person. Of course, she couldn\\'t scientifically prove any of this, but that didn\\'t matter to her. Before anything else, she would size up the ears of the person she was talking to.\\nThe wave roared towards them with speed and violence they had not anticipated. They both turned to run but by that time it was too late. The wave crashed into their legs sweeping both of them off of their feet. They now found themselves in a washing machine of saltwater, getting tumbled and not know what was up or down. Both were scared, not knowing how this was going to end, but it was by far the best time of the trip thus far.\\n\"Begin today!\" That\\'s all the note said. There was no indication from where it came or who may have written it. Had it been meant for someone else? Meghan looked around the room, but nobody made eye contact back. For a brief moment, she thought it might be a message for her to follow her dreams, but ultimately decided it was easier to ignore it as she crumpled it up and threw it away.\\nHe wandered down the stairs and into the basement. The damp, musty smell of unuse hung in the air. A single, small window let in a glimmer of light, but this simply made the shadows in the basement deeper. He inhaled deeply and looked around at a mess that had been accumulating for over 25 years. He was positive that this was the place he wanted to live.\\nHer eyebrows were a shade darker than her hair. They were thick and almost horizontal, emphasizing the depth of her eyes. She was rather handsome than beautiful. Her face was captivating by reason of a certain frankness of expression and a contradictory subtle play of features. Her manner was engaging.\\nThere was a reason for her shyness. Everyone assumed it had always been there but she knew better. She knew the exact moment that the shyness began. It had been that fateful moment at the lake. There are just some events that do that to you.', metadata={'source': 'speech.txt'})]"
      ]
     },
     "execution_count": 46,
     "metadata": {},
     "output_type": "execute_result"
    }
   ],
   "source": [
    "text_documents"
   ]
  },
  {
   "cell_type": "code",
   "execution_count": 47,
   "id": "b4ae7d9c",
   "metadata": {},
   "outputs": [
    {
     "data": {
      "text/plain": [
       "[Document(page_content=\"Sometimes it's simply better to ignore the haters. That's the lesson that Tom's dad had been trying to teach him, but Tom still couldn't let it go. He latched onto them and their hate and couldn't let it go, but he also realized that this wasn't healthy. That's when he came up with his devious plan.\\nThe choice was red, green, or blue. It didn't seem like an important choice when he was making it, but it was a choice nonetheless. Had he known the consequences at that time, he would likely have considered the choice a bit longer. In the end, he didn't and ended up choosing blue.\\nHe stared out the window at the snowy field. He'd been stuck in the house for close to a month and his only view of the outside world was through the window. There wasn't much to see. It was mostly just the field with an occasional bird or small animal who ventured into the field. As he continued to stare out the window, he wondered how much longer he'd be shackled to the steel bar inside the house.\", metadata={'source': 'speech.txt'}),\n",
       " Document(page_content=\"It was a concerning development that he couldn't get out of his mind. He'd had many friends throughout his early years and had fond memories of playing with them, but he couldn't understand how it had all stopped. There was some point as he grew up that he played with each of his friends for the very last time, and he had no idea that it would be the last.\\nHe heard the loud impact before he ever saw the result. It had been so loud that it had actually made him jump back in his seat. As soon as he recovered from the surprise, he saw the crack in the windshield. It seemed to be an analogy of the current condition of his life.\", metadata={'source': 'speech.txt'}),\n",
       " Document(page_content='Breastfeeding is good for babies and moms. Infants that are breastfed get antibodies from their mothers against common illnesses. Breastfed babies have less chance of being obese as an adult. Breastfeeding a baby lets the infant-mother pair bond in a very unique way. Motherâ€™s who breastfeed lower their chances of developing breast cancer. Usually, mothers who breastfeed lose their pregnancy weight more quickly and easily. The benefits of breastfeeding are numerous.\\nThen came the night of the first falling star. It was seen early in the morning, rushing over Winchester eastward, a line of flame high in the atmosphere. Hundreds must have seen it and taken it for an ordinary falling star. It seemed that it fell to earth about one hundred miles east of him.', metadata={'source': 'speech.txt'}),\n",
       " Document(page_content='Brenda never wanted to be famous. While most of her friends dreamed about being famous, she could see the negative aspects that those who wanted to be famous seemed to ignore. The fact that you could never do anything in public without being mobbed and the complete lack of privacy was something that she never wanted to experience. She also had no desire to have strangers speculating about every aspect of her life and what each thing she did was supposed to mean. Brenda was perfectly happy with her anonymous life where she could do exactly as she wanted without anyone else giving a damn. Thus, her overnight Internet celebrity was not something she was thrilled about as her friends told her how lucky she was.', metadata={'source': 'speech.txt'}),\n",
       " Document(page_content=\"He walked down the steps from the train station in a bit of a hurry knowing the secrets in the briefcase must be secured as quickly as possible. Bounding down the steps, he heard something behind him and quickly turned in a panic. There was nobody there but a pair of old worn-out shoes were placed neatly on the steps he had just come down. Had he past them without seeing them? It didn't seem possible. He was about to turn and be on his way when a deep chill filled his body.\\nShe counted. One. She could hear the steps coming closer. Two. Puffs of breath could be seen coming from his mouth. Three. He stopped beside her. Four. She pulled the trigger of the gun.\", metadata={'source': 'speech.txt'})]"
      ]
     },
     "execution_count": 47,
     "metadata": {},
     "output_type": "execute_result"
    }
   ],
   "source": [
    "from langchain.text_splitter import RecursiveCharacterTextSplitter\n",
    "text_splitter = RecursiveCharacterTextSplitter(chunk_size=1000, chunk_overlap=200)\n",
    "documents = text_splitter.split_documents(text_documents)\n",
    "documents[:5]"
   ]
  },
  {
   "cell_type": "code",
   "execution_count": 48,
   "id": "0182f5ba",
   "metadata": {},
   "outputs": [],
   "source": [
    "from dotenv import load_dotenv\n",
    "import os\n",
    "from langchain_community.embeddings import OpenAIEmbeddings\n",
    "from langchain_community.vectorstores import FAISS\n",
    "\n",
    "load_dotenv()\n",
    "os.environ[\"OPENAI_API_KEY\"] = os.getenv(\"OPENAI_API_KEY\")\n",
    "embeddings = OpenAIEmbeddings()\n",
    "\n",
    "# Create FAISS vector store from documents\n",
    "db = FAISS.from_documents(documents[:15], embeddings)\n"
   ]
  },
  {
   "cell_type": "code",
   "execution_count": 49,
   "id": "f69e7ca9",
   "metadata": {},
   "outputs": [
    {
     "data": {
      "text/plain": [
       "\"Sometimes it's simply better to ignore the haters. That's the lesson that Tom's dad had been trying to teach him, but Tom still couldn't let it go. He latched onto them and their hate and couldn't let it go, but he also realized that this wasn't healthy. That's when he came up with his devious plan.\\nThe choice was red, green, or blue. It didn't seem like an important choice when he was making it, but it was a choice nonetheless. Had he known the consequences at that time, he would likely have considered the choice a bit longer. In the end, he didn't and ended up choosing blue.\\nHe stared out the window at the snowy field. He'd been stuck in the house for close to a month and his only view of the outside world was through the window. There wasn't much to see. It was mostly just the field with an occasional bird or small animal who ventured into the field. As he continued to stare out the window, he wondered how much longer he'd be shackled to the steel bar inside the house.\""
      ]
     },
     "execution_count": 49,
     "metadata": {},
     "output_type": "execute_result"
    }
   ],
   "source": [
    "query = \"What lesson was Tom’s dad trying to teach him\"\n",
    "docs = db.similarity_search(query)\n",
    "docs[0].page_content"
   ]
  },
  {
   "cell_type": "code",
   "execution_count": 50,
   "id": "846b4519",
   "metadata": {},
   "outputs": [],
   "source": [
    "from langchain_openai import OpenAI\n",
    "\n",
    "llm = OpenAI()"
   ]
  },
  {
   "cell_type": "code",
   "execution_count": 51,
   "id": "e2c001d6",
   "metadata": {},
   "outputs": [],
   "source": [
    "from langchain_core.prompts import ChatPromptTemplate\n",
    "prompt = ChatPromptTemplate.from_template(\n",
    "    \"Use the following pieces of context to answer the question at the end. \"\n",
    "    \"If you don't know the answer, just say that you don't know, don't try to make up an answer. \"\n",
    "    \"Context: {context} \\n\\n Question: {input}\"\n",
    ")"
   ]
  },
  {
   "cell_type": "code",
   "execution_count": 52,
   "id": "62b666d0",
   "metadata": {},
   "outputs": [
    {
     "data": {
      "text/plain": [
       "VectorStoreRetriever(tags=['FAISS', 'OpenAIEmbeddings'], vectorstore=<langchain_community.vectorstores.faiss.FAISS object at 0x00000284AE297770>)"
      ]
     },
     "execution_count": 52,
     "metadata": {},
     "output_type": "execute_result"
    }
   ],
   "source": [
    "from langchain.chains.combine_documents import create_stuff_documents_chain\n",
    "documents_chain = create_stuff_documents_chain(llm=llm, prompt=prompt)\n",
    "\n",
    "retriever = db.as_retriever()\n",
    "retriever"
   ]
  },
  {
   "cell_type": "code",
   "execution_count": 55,
   "id": "f42a9036",
   "metadata": {},
   "outputs": [],
   "source": [
    "from langchain.chains import create_retrieval_chain\n",
    "\n",
    "retrieval_chain = create_retrieval_chain(retriever, documents_chain)\n",
    "\n",
    "response = retrieval_chain.invoke({\"input\": query})"
   ]
  },
  {
   "cell_type": "code",
   "execution_count": 56,
   "id": "0832ae20",
   "metadata": {},
   "outputs": [
    {
     "data": {
      "text/plain": [
       "\"?\\n\\nAnswer: The lesson that Tom's dad was trying to teach him was to ignore the haters and not let their hate affect him.\""
      ]
     },
     "execution_count": 56,
     "metadata": {},
     "output_type": "execute_result"
    }
   ],
   "source": [
    "response['answer']"
   ]
  }
 ],
 "metadata": {
  "kernelspec": {
   "display_name": "venv",
   "language": "python",
   "name": "python3"
  },
  "language_info": {
   "codemirror_mode": {
    "name": "ipython",
    "version": 3
   },
   "file_extension": ".py",
   "mimetype": "text/x-python",
   "name": "python",
   "nbconvert_exporter": "python",
   "pygments_lexer": "ipython3",
   "version": "3.12.10"
  }
 },
 "nbformat": 4,
 "nbformat_minor": 5
}
