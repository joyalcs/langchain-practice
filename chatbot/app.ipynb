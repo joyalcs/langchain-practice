{
 "cells": [
  {
   "cell_type": "code",
   "execution_count": 21,
   "id": "cc7552b6",
   "metadata": {},
   "outputs": [
    {
     "data": {
      "text/plain": [
       "<langchain_community.document_loaders.text.TextLoader at 0x2567d46c4a0>"
      ]
     },
     "execution_count": 21,
     "metadata": {},
     "output_type": "execute_result"
    }
   ],
   "source": [
    "from langchain_community.document_loaders import TextLoader\n",
    "\n",
    "text_loader = TextLoader(\"data.txt\")\n",
    "text_document = text_loader.load()\n",
    "text_loader"
   ]
  },
  {
   "cell_type": "code",
   "execution_count": 22,
   "id": "d9c2653d",
   "metadata": {},
   "outputs": [],
   "source": [
    "from langchain.text_splitter import  RecursiveCharacterTextSplitter\n",
    "text_splitter = RecursiveCharacterTextSplitter(chunk_size=1000, chunk_overlap=200)\n",
    "document = text_splitter.split_documents(text_document)"
   ]
  },
  {
   "cell_type": "code",
   "execution_count": 23,
   "id": "879bc801",
   "metadata": {},
   "outputs": [],
   "source": [
    "from dotenv import load_dotenv\n",
    "import os\n",
    "from langchain_community.embeddings import OpenAIEmbeddings\n",
    "from langchain_community.vectorstores import FAISS\n",
    "\n",
    "load_dotenv()\n",
    "OPENAI_API_KEY = os.getenv(\"OPENAI_API_KEY\")\n",
    "embeddings = OpenAIEmbeddings()\n",
    "db = FAISS.from_documents(document, embeddings)"
   ]
  },
  {
   "cell_type": "code",
   "execution_count": 24,
   "id": "f326d518",
   "metadata": {},
   "outputs": [
    {
     "data": {
      "text/plain": [
       "'1. FAQs\\n\\nQ: How can I reset my password?\\nA: Go to Account Settings > Security > Reset Password. Youâ€™ll receive an email link to set a new one.\\n\\nQ: What payment methods do you accept?\\nA: We accept Credit/Debit Cards, Net Banking, UPI, and Wallets (Paytm, PhonePe).\\n\\nQ: Can I cancel an order after placing it?\\nA: Yes, you can cancel an order within 24 hours before it is shipped.\\n\\n2. Help Docs (Short Guides)\\n\\nPassword Reset Guide:\\n\\nClick Forgot Password on the login page.\\n\\nEnter your registered email/phone.\\n\\nFollow the reset link sent to your email.\\n\\nTracking Orders:\\n\\nGo to My Orders section.\\n\\nSelect the order you want to track.\\n\\nYouâ€™ll see live tracking status (Processing â†’ Shipped â†’ Out for Delivery â†’ Delivered).\\n\\n3. Product Guide (E-commerce Example)\\n\\nReturn Policy for Electronics:\\n\\nElectronics can be returned within 7 days if unopened.\\n\\nOpened products can only be replaced if defective.\\n\\nWarranty claims must go through the manufacturer.\\n\\nClothing Size Guide:'"
      ]
     },
     "execution_count": 24,
     "metadata": {},
     "output_type": "execute_result"
    }
   ],
   "source": [
    "query = \"How do I reset my password?\"\n",
    "docs = db.similarity_search(query)\n",
    "docs[0].page_content"
   ]
  },
  {
   "cell_type": "code",
   "execution_count": 27,
   "id": "a5ad04d5",
   "metadata": {},
   "outputs": [
    {
     "data": {
      "text/plain": [
       "'Answer: To reset your password, go to Account Settings > Security > Reset Password. You will receive an email with a link to set a new password.'"
      ]
     },
     "execution_count": 27,
     "metadata": {},
     "output_type": "execute_result"
    }
   ],
   "source": [
    "from langchain_openai import OpenAI\n",
    "from langchain_core.prompts import ChatPromptTemplate\n",
    "\n",
    "\n",
    "llm = OpenAI()\n",
    "\n",
    "prompt = ChatPromptTemplate.from_template(\n",
    "    \"You are a helpful customer support assistant. Use the following pieces of context to answer the question at the end.\\n\"\n",
    "    \"context :{context} \\n\\n\"\n",
    "    \"Question: {input}\\n\"\n",
    ")\n",
    "\n",
    "from langchain.chains.combine_documents import create_stuff_documents_chain\n",
    "documents_chain = create_stuff_documents_chain(llm, prompt)\n",
    "retriever = db.as_retriever()\n",
    "from langchain.chains import create_retrieval_chain\n",
    "\n",
    "retrieval_chain = create_retrieval_chain(retriever, documents_chain)\n",
    "\n",
    "response = retrieval_chain.invoke({\"input\": query})\n",
    "\n",
    "response['answer']"
   ]
  }
 ],
 "metadata": {
  "kernelspec": {
   "display_name": "venv",
   "language": "python",
   "name": "python3"
  },
  "language_info": {
   "codemirror_mode": {
    "name": "ipython",
    "version": 3
   },
   "file_extension": ".py",
   "mimetype": "text/x-python",
   "name": "python",
   "nbconvert_exporter": "python",
   "pygments_lexer": "ipython3",
   "version": "3.12.10"
  }
 },
 "nbformat": 4,
 "nbformat_minor": 5
}
